{
 "cells": [
  {
   "cell_type": "code",
   "execution_count": 1,
   "id": "96f3fbc9-e0f5-4053-8182-e3af30e5f6c0",
   "metadata": {},
   "outputs": [],
   "source": [
    "import warnings\n",
    "warnings.simplefilter(action='ignore', category=FutureWarning)\n",
    "\n",
    "import pandas as pd\n",
    "import scanpy as sc\n",
    "import seaborn as sns\n",
    "import decoupler as dc\n",
    "import fastcluster"
   ]
  },
  {
   "cell_type": "code",
   "execution_count": 2,
   "id": "ec741df6-05cb-455e-99c7-a197430bb3a2",
   "metadata": {},
   "outputs": [
    {
     "name": "stdout",
     "output_type": "stream",
     "text": [
      "All good to go! :-D\n"
     ]
    }
   ],
   "source": [
    "print(\"All good to go! :-D\")"
   ]
  }
 ],
 "metadata": {
  "kernelspec": {
   "display_name": "Python 3 (ipykernel)",
   "language": "python",
   "name": "python3"
  },
  "language_info": {
   "codemirror_mode": {
    "name": "ipython",
    "version": 3
   },
   "file_extension": ".py",
   "mimetype": "text/x-python",
   "name": "python",
   "nbconvert_exporter": "python",
   "pygments_lexer": "ipython3",
   "version": "3.13.9"
  }
 },
 "nbformat": 4,
 "nbformat_minor": 5
}
